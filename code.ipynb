{
 "cells": [
  {
   "cell_type": "markdown",
   "metadata": {},
   "source": [
    "import dataset"
   ]
  },
  {
   "cell_type": "code",
   "execution_count": 43,
   "metadata": {},
   "outputs": [
    {
     "name": "stderr",
     "output_type": "stream",
     "text": [
      "C:\\Users\\M7600QE\\AppData\\Local\\Temp\\ipykernel_18680\\2671681662.py:3: DtypeWarning: Columns (0,1,2,3,4,5) have mixed types. Specify dtype option on import or set low_memory=False.\n",
      "  housing_advert = pd.read_csv('housing-Raoofi.csv')\n"
     ]
    }
   ],
   "source": [
    "import pandas as pd \n",
    "\n",
    "housing_advert = pd.read_csv('housing-Raoofi.csv')"
   ]
  },
  {
   "cell_type": "markdown",
   "metadata": {},
   "source": [
    "data preprocessing"
   ]
  },
  {
   "cell_type": "code",
   "execution_count": 44,
   "metadata": {},
   "outputs": [
    {
     "data": {
      "text/html": [
       "<div>\n",
       "<style scoped>\n",
       "    .dataframe tbody tr th:only-of-type {\n",
       "        vertical-align: middle;\n",
       "    }\n",
       "\n",
       "    .dataframe tbody tr th {\n",
       "        vertical-align: top;\n",
       "    }\n",
       "\n",
       "    .dataframe thead th {\n",
       "        text-align: right;\n",
       "    }\n",
       "</style>\n",
       "<table border=\"1\" class=\"dataframe\">\n",
       "  <thead>\n",
       "    <tr style=\"text-align: right;\">\n",
       "      <th></th>\n",
       "      <th>Area</th>\n",
       "      <th>Construction</th>\n",
       "      <th>Room</th>\n",
       "      <th>Warehouse</th>\n",
       "      <th>Parking</th>\n",
       "      <th>Elevator</th>\n",
       "      <th>Address</th>\n",
       "      <th>Price</th>\n",
       "    </tr>\n",
       "  </thead>\n",
       "  <tbody>\n",
       "    <tr>\n",
       "      <th>86473</th>\n",
       "      <td>140</td>\n",
       "      <td>1396</td>\n",
       "      <td>3</td>\n",
       "      <td>True</td>\n",
       "      <td>True</td>\n",
       "      <td>True</td>\n",
       "      <td>۱ هفته پیش در تهران، دریاچه شهدای خلیج فارس</td>\n",
       "      <td>۸٬۷۰۰٬۰۰۰٬۰۰۰ تومان</td>\n",
       "    </tr>\n",
       "    <tr>\n",
       "      <th>82779</th>\n",
       "      <td>145</td>\n",
       "      <td>1401</td>\n",
       "      <td>3</td>\n",
       "      <td>True</td>\n",
       "      <td>True</td>\n",
       "      <td>True</td>\n",
       "      <td>۱ روز پیش در تهران، پاسداران</td>\n",
       "      <td>۲۱٬۳۱۵٬۰۰۰٬۰۰۰ تومان</td>\n",
       "    </tr>\n",
       "    <tr>\n",
       "      <th>7260</th>\n",
       "      <td>153</td>\n",
       "      <td>1382</td>\n",
       "      <td>3</td>\n",
       "      <td>True</td>\n",
       "      <td>True</td>\n",
       "      <td>True</td>\n",
       "      <td>۲۳ ساعت پیش در تهران، حکمت</td>\n",
       "      <td>۱۵٬۴۰۰٬۰۰۰٬۰۰۰ تومان</td>\n",
       "    </tr>\n",
       "    <tr>\n",
       "      <th>9702</th>\n",
       "      <td>160</td>\n",
       "      <td>1380</td>\n",
       "      <td>3</td>\n",
       "      <td>True</td>\n",
       "      <td>True</td>\n",
       "      <td>True</td>\n",
       "      <td>۱ روز پیش در تهران، شهرک غرب</td>\n",
       "      <td>۱۹٬۲۰۰٬۰۰۰٬۰۰۰ تومان</td>\n",
       "    </tr>\n",
       "    <tr>\n",
       "      <th>8155</th>\n",
       "      <td>106</td>\n",
       "      <td>1401</td>\n",
       "      <td>2</td>\n",
       "      <td>True</td>\n",
       "      <td>True</td>\n",
       "      <td>True</td>\n",
       "      <td>۱ روز پیش در تهران، سرتخت</td>\n",
       "      <td>۵٬۶۰۰٬۰۰۰٬۰۰۰ تومان</td>\n",
       "    </tr>\n",
       "  </tbody>\n",
       "</table>\n",
       "</div>"
      ],
      "text/plain": [
       "      Area Construction Room Warehouse Parking Elevator  \\\n",
       "86473  140         1396    3      True    True     True   \n",
       "82779  145         1401    3      True    True     True   \n",
       "7260   153         1382    3      True    True     True   \n",
       "9702   160         1380    3      True    True     True   \n",
       "8155   106         1401    2      True    True     True   \n",
       "\n",
       "                                           Address                 Price  \n",
       "86473  ۱ هفته پیش در تهران، دریاچه شهدای خلیج فارس   ۸٬۷۰۰٬۰۰۰٬۰۰۰ تومان  \n",
       "82779                 ۱ روز پیش در تهران، پاسداران  ۲۱٬۳۱۵٬۰۰۰٬۰۰۰ تومان  \n",
       "7260                    ۲۳ ساعت پیش در تهران، حکمت  ۱۵٬۴۰۰٬۰۰۰٬۰۰۰ تومان  \n",
       "9702                  ۱ روز پیش در تهران، شهرک غرب  ۱۹٬۲۰۰٬۰۰۰٬۰۰۰ تومان  \n",
       "8155                     ۱ روز پیش در تهران، سرتخت   ۵٬۶۰۰٬۰۰۰٬۰۰۰ تومان  "
      ]
     },
     "execution_count": 44,
     "metadata": {},
     "output_type": "execute_result"
    }
   ],
   "source": [
    "housing_advert.sample(5)"
   ]
  },
  {
   "cell_type": "code",
   "execution_count": 45,
   "metadata": {},
   "outputs": [
    {
     "data": {
      "text/plain": [
       "(94036, 8)"
      ]
     },
     "execution_count": 45,
     "metadata": {},
     "output_type": "execute_result"
    }
   ],
   "source": [
    "housing_advert.shape"
   ]
  },
  {
   "cell_type": "code",
   "execution_count": 46,
   "metadata": {},
   "outputs": [
    {
     "name": "stdout",
     "output_type": "stream",
     "text": [
      "<class 'pandas.core.frame.DataFrame'>\n",
      "RangeIndex: 94036 entries, 0 to 94035\n",
      "Data columns (total 8 columns):\n",
      " #   Column        Non-Null Count  Dtype \n",
      "---  ------        --------------  ----- \n",
      " 0   Area          94036 non-null  object\n",
      " 1   Construction  94036 non-null  object\n",
      " 2   Room          94036 non-null  object\n",
      " 3   Warehouse     94036 non-null  object\n",
      " 4   Parking       94036 non-null  object\n",
      " 5   Elevator      94036 non-null  object\n",
      " 6   Address       94036 non-null  object\n",
      " 7   Price         94036 non-null  object\n",
      "dtypes: object(8)\n",
      "memory usage: 5.7+ MB\n"
     ]
    }
   ],
   "source": [
    "housing_advert.info()"
   ]
  },
  {
   "cell_type": "code",
   "execution_count": 66,
   "metadata": {},
   "outputs": [],
   "source": [
    "df = housing_advert.copy()"
   ]
  },
  {
   "cell_type": "code",
   "execution_count": 67,
   "metadata": {},
   "outputs": [],
   "source": [
    "df['Area'] = pd.to_numeric(df['Area'], errors='coerce')\n",
    "df['Construction'] = pd.to_numeric(df['Construction'], errors='coerce')\n",
    "df['Room'] = pd.to_numeric(df['Room'], errors='coerce')"
   ]
  },
  {
   "cell_type": "code",
   "execution_count": 68,
   "metadata": {},
   "outputs": [],
   "source": [
    "df['Warehouse'] = df['Warehouse'].astype(bool)\n",
    "df['Parking'] = df['Parking'].astype(bool)\n",
    "df['Elevator'] = df['Elevator'].astype(bool)"
   ]
  },
  {
   "cell_type": "code",
   "execution_count": 69,
   "metadata": {},
   "outputs": [],
   "source": [
    "import re\n",
    "def clean_address(address):\n",
    "    match = re.search(r'پیش در تهران، ([^،]+)', address)\n",
    "    if match:\n",
    "        return match.group(1)\n",
    "    return address"
   ]
  },
  {
   "cell_type": "code",
   "execution_count": 70,
   "metadata": {},
   "outputs": [],
   "source": [
    "df['Address'] =  df['Address'].apply(clean_address)"
   ]
  },
  {
   "cell_type": "code",
   "execution_count": 71,
   "metadata": {},
   "outputs": [],
   "source": [
    "def clean_price(price):\n",
    "    cleaned_price = re.sub(r'[^\\d]', '', price)\n",
    "    return int(cleaned_price) if cleaned_price else None"
   ]
  },
  {
   "cell_type": "code",
   "execution_count": 72,
   "metadata": {},
   "outputs": [],
   "source": [
    "df['Price'] = df['Price'].apply(clean_price)"
   ]
  },
  {
   "cell_type": "code",
   "execution_count": 73,
   "metadata": {},
   "outputs": [
    {
     "data": {
      "text/plain": [
       "Area              1\n",
       "Construction      1\n",
       "Room              1\n",
       "Warehouse         0\n",
       "Parking           0\n",
       "Elevator          0\n",
       "Address           0\n",
       "Price           246\n",
       "dtype: int64"
      ]
     },
     "execution_count": 73,
     "metadata": {},
     "output_type": "execute_result"
    }
   ],
   "source": [
    "df.isna().sum()"
   ]
  },
  {
   "cell_type": "code",
   "execution_count": 74,
   "metadata": {},
   "outputs": [],
   "source": [
    "df.dropna(inplace=True)"
   ]
  },
  {
   "cell_type": "code",
   "execution_count": 75,
   "metadata": {},
   "outputs": [
    {
     "data": {
      "text/html": [
       "<div>\n",
       "<style scoped>\n",
       "    .dataframe tbody tr th:only-of-type {\n",
       "        vertical-align: middle;\n",
       "    }\n",
       "\n",
       "    .dataframe tbody tr th {\n",
       "        vertical-align: top;\n",
       "    }\n",
       "\n",
       "    .dataframe thead th {\n",
       "        text-align: right;\n",
       "    }\n",
       "</style>\n",
       "<table border=\"1\" class=\"dataframe\">\n",
       "  <thead>\n",
       "    <tr style=\"text-align: right;\">\n",
       "      <th></th>\n",
       "      <th>Area</th>\n",
       "      <th>Construction</th>\n",
       "      <th>Room</th>\n",
       "      <th>Price</th>\n",
       "    </tr>\n",
       "  </thead>\n",
       "  <tbody>\n",
       "    <tr>\n",
       "      <th>count</th>\n",
       "      <td>93790.000000</td>\n",
       "      <td>93790.000000</td>\n",
       "      <td>93790.000000</td>\n",
       "      <td>9.379000e+04</td>\n",
       "    </tr>\n",
       "    <tr>\n",
       "      <th>mean</th>\n",
       "      <td>125.018083</td>\n",
       "      <td>1392.983463</td>\n",
       "      <td>2.225301</td>\n",
       "      <td>1.452574e+10</td>\n",
       "    </tr>\n",
       "    <tr>\n",
       "      <th>std</th>\n",
       "      <td>267.611046</td>\n",
       "      <td>7.745195</td>\n",
       "      <td>0.765839</td>\n",
       "      <td>2.737502e+10</td>\n",
       "    </tr>\n",
       "    <tr>\n",
       "      <th>min</th>\n",
       "      <td>1.000000</td>\n",
       "      <td>1371.000000</td>\n",
       "      <td>1.000000</td>\n",
       "      <td>2.300000e+08</td>\n",
       "    </tr>\n",
       "    <tr>\n",
       "      <th>25%</th>\n",
       "      <td>74.000000</td>\n",
       "      <td>1386.000000</td>\n",
       "      <td>2.000000</td>\n",
       "      <td>4.900000e+09</td>\n",
       "    </tr>\n",
       "    <tr>\n",
       "      <th>50%</th>\n",
       "      <td>105.000000</td>\n",
       "      <td>1395.000000</td>\n",
       "      <td>2.000000</td>\n",
       "      <td>8.580000e+09</td>\n",
       "    </tr>\n",
       "    <tr>\n",
       "      <th>75%</th>\n",
       "      <td>141.000000</td>\n",
       "      <td>1401.000000</td>\n",
       "      <td>3.000000</td>\n",
       "      <td>1.550000e+10</td>\n",
       "    </tr>\n",
       "    <tr>\n",
       "      <th>max</th>\n",
       "      <td>36500.000000</td>\n",
       "      <td>1401.000000</td>\n",
       "      <td>4.000000</td>\n",
       "      <td>1.000000e+12</td>\n",
       "    </tr>\n",
       "  </tbody>\n",
       "</table>\n",
       "</div>"
      ],
      "text/plain": [
       "               Area  Construction          Room         Price\n",
       "count  93790.000000  93790.000000  93790.000000  9.379000e+04\n",
       "mean     125.018083   1392.983463      2.225301  1.452574e+10\n",
       "std      267.611046      7.745195      0.765839  2.737502e+10\n",
       "min        1.000000   1371.000000      1.000000  2.300000e+08\n",
       "25%       74.000000   1386.000000      2.000000  4.900000e+09\n",
       "50%      105.000000   1395.000000      2.000000  8.580000e+09\n",
       "75%      141.000000   1401.000000      3.000000  1.550000e+10\n",
       "max    36500.000000   1401.000000      4.000000  1.000000e+12"
      ]
     },
     "execution_count": 75,
     "metadata": {},
     "output_type": "execute_result"
    }
   ],
   "source": [
    "df.describe()"
   ]
  },
  {
   "cell_type": "code",
   "execution_count": null,
   "metadata": {},
   "outputs": [],
   "source": []
  }
 ],
 "metadata": {
  "kernelspec": {
   "display_name": "Python 3",
   "language": "python",
   "name": "python3"
  },
  "language_info": {
   "codemirror_mode": {
    "name": "ipython",
    "version": 3
   },
   "file_extension": ".py",
   "mimetype": "text/x-python",
   "name": "python",
   "nbconvert_exporter": "python",
   "pygments_lexer": "ipython3",
   "version": "3.13.0"
  }
 },
 "nbformat": 4,
 "nbformat_minor": 2
}
